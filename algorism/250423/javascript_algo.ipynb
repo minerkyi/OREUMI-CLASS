{
  "metadata": {
    "kernelspec": {
      "name": "javascript",
      "display_name": "JavaScript (Web Worker)",
      "language": "javascript"
    },
    "language_info": {
      "codemirror_mode": {
        "name": "javascript"
      },
      "file_extension": ".js",
      "mimetype": "text/javascript",
      "name": "javascript",
      "nbconvert_exporter": "javascript",
      "pygments_lexer": "javascript",
      "version": "es2017"
    }
  },
  "nbformat_minor": 4,
  "nbformat": 4,
  "cells": [
    {
      "cell_type": "markdown",
      "source": "## 1. 자료구조와 알고리즘, 코딩테스트",
      "metadata": {}
    },
    {
      "cell_type": "markdown",
      "source": "* 자료구조(자료를 어떻게 담는가?): 어래이, 오브젝트, 맵, 셋, 싱글 링크드리스트, 더블링크드리스트, 트리, 해쉬 등\n* 알고리즘(문제를 어떻게 풀 것인가?): 에라토스테네스의 체, 그리디 알고리즘, 투 포인터, 슬라이딩 윈도우 등 \n* 자료구조 + 알고리즘 => 문제 풀이 능력을 보겠다! => 코딩테스트\n    * 왜 기업에서 이 두가지를 볼까요? 자료구조와 알고리즘이 프로그래밍을 하는데 필수적인 요소인 것도 있지만 이력서를 하나씩 보기에는 시간이 너무 많이 걸리고, 특히 알고리즘을 잘 아는 분 중 러닝커브가 긴 분이 많이 없습니다. \n* 추천 서적\n    * 학문적 접근 : The Art of Computer Programming(도널드 커누스)\n    * 코딩테스트 접근 : 파이썬 알고리즘 인터뷰(박상길), 코딩 테스트 합격자 되기 : 자바스크립트 편\n    * 기타 : 파이썬 자료구조와 알고리즘(중학교 학생 가르칠 때 사용), 그림으로 배우는 알고리즘(코드 없고 그림만 있습니다), 알고리즘 산책(역사적인 알고리즘을 쭉 훑어봅니다. 수학적인 내용이 많고 코드는 C++로 되어 있으나 보는데 큰 무리는 없습니다.)\n* 요즘은 Claude, ChatGPT가 이러한 책의 역할을 하고 있습니다. 그래서 https://100.jsalgo.co.kr/, https://jsalgo.co.kr/, https://to.jsalgo.co.kr/ 와 같은 곳에서 문제를 풀어보시면서 자료구조와 알고리즘을 함께 설명해달라고 ChatGPT에게 요청하시면서 공부하시는 방법이 더 효율적입니다.",
      "metadata": {}
    },
    {
      "cell_type": "markdown",
      "source": "## 1.1 코테 전 준비사항\n0. 회사와 경향 분석!\n    * 코테 보는 회사와 회사 유형을 정리하세요.\n    * [코딩테스트 경향 정리](https://paullabworkspace.notion.site/446d03bf38df42e19d9fedcf5ceaec61?pvs=4) 해두었습니다.\n    * 분석 서비스를 통해 [출제 경향](https://algoview.co.kr/)도 한 번 정리하세요.\n1. 플렛폼에 익숙해지자! (프로그래머스, 구름EDU 등)\n    * 사용 가능 라이브러리 미리 확인 등\n    * 순열과 조합, 완전탐색은 문제가 나오면 JavaScript에는 불리합니다. Python에서  itertools를 사용하면 쉽게 풀이가 가능하기 때문입니다. 그래서 이런 이유 때문에 Python을 코딩테스트를 위해 배우시는 분들이 있습니다.\n2. 언어 선택(속도 : C++, 풀이 : Python)\n    * 요즘은 Lv이 높은 경우가 아니면 속도 체크를 거의 하지 않는 추세입니다.\n    * 다른 언어가 메인이셔도 Python 추천 드립니다. 코딩테스트만을 위해 Python을 새로 공부하시는 분들이 많습니다.\n3. 코드 스니펫(트리, 검색, 최단경로(예를 들어 다익스트라), 직접 제작한 함수 등), Cheatsheet, A4 용지 준비\n    * 코드 스니펫을 만들어둔 레파지토리 fork - [제주코딩베이스캠프](https://github.com/paullabkorea/programmersLv0)\n    * 감독관이 없는 경우 [스니펫](https://github.com/paullabkorea/programmersLv0/blob/main/Solution.md)에서 Ctrl + F해서 문제를 풉니다.\n    * 시험 전 스니펫을 만들지 말고 하루 한 문제씩(저도 매일 한 문제씩 풉니다.) 또는 버겁다면 일주일에 2 ~ 3문제.\n4. 유용한 소스코드는 미리미리 정리를 해두세요.\n    * 유용한 알고리즘 GitHub repo를 검색하고 fork를 떠두는 것도 좋습니다.\n    * 면접질문 repo등 다양한 목적에 repo가 있습니다.\n5. 기억해두자! 예외처리!\n    * 문제를 많이 풀어보셔야 어떤 예외를 처리할지 알 수 있습니다.\n    * 예외처리와 테스트 케이스중 통과 못하는 케이스들은 문제를 많이 풀어보셔야 합니다.\n    * 길이가 0이거나 0으로 나누거나 등\n7. 속도개선\n    * 대부분 class로 구현해서 풀이해야 속도가 개선되게 하는 문제\n    * 재귀는 느립니다. 최후의 수단으로 사용하세요.\n8. ChatGPT, Copilot 활용\n    * 감독관이 없고 검색이 가능하다면 Claude, ChatGPT를 활용하세요.(Claude, ChatGPT가 활용 불가인 코테도 있습니다. 다만 활용 불가인데 검색이 가능할 경우 형평성 문제가 생겨요.)\n    * Claude, ChatGPT 나오고 화이트보드 테스트가 많아졌습니다.",
      "metadata": {}
    },
    {
      "cell_type": "markdown",
      "source": "## 1.2 문제 유형과 출제 방식\n* 5 ~ 6시간, 6 ~ 7문제\n* 30분씩 4문제, 2시간씩 2문제\n* 2 ~ 3시간, 3 ~ 5문제\n* 30분씩 3 ~ 4문제, 변별력 1문제\n* 단기 공부로 붙을 수 있는 코테와 붙기 힘든 코테 경향 정리\n* 문제 유형 분석 관련 글\n    * [문제 유형 분석](https://www.hanbit.co.kr/media/channel/view.html?cms_code=CMS4385594264)\n    * [언어 유불리 여부](https://www.hanbit.co.kr/media/channel/view.html?cms_code=CMS9145550324&cate_cd=)\n    * [코딩 테스트에 가장 많이 출제 되는 알고리즘](https://www.hanbit.co.kr/media/channel/view.html?cms_code=CMS7793635735&cate_cd=)\n        * 요구사항 구현 알고리즘(33%)\n        * 그리디 알고리즘(20%)\n        * 너비우선탐색, 깊이우선탐색(20%)\n        * 정렬(8%): 최댓값, 최솟값, 최소길이 등 다양하게 응용이 되기 때문에 더 많이 나옵니다.\n        * 다이나믹 프로그래밍, 최단경로, 이진 탐색 등\n* 전체 문제 유형\n    * 알고리즘\n        * 정렬\n        * 이진 검색\n        * 비트 연산\n        * 슬라이딩 윈도우, 페이지 교체\n        * 분할 정복\n            * 그리디 알고리즘\n            * 다이나믹 프로그래밍\n    * 자료구조\n        * 선형\n            * 스택과 큐, 데크\n            * 연결리스트, 해시 테이블\n        * 비선형\n            * 그래프(최단경로) - 다익스트라가 나오면 매우 어려운 문제\n            * 트리\n                * 힙\n                * 트라이",
      "metadata": {}
    },
    {
      "cell_type": "code",
      "source": "// 주석입니다.\n// 뒤에 세미콜론은 효율 차원에서 생략하도록 하겠습니다.\nconst a = 10\nconst b = 30\na + b\n// 실행은 Ctrl + Enter가 있습니다.\n// Alt + Enter(아래 셀 추가)가 있습니다.",
      "metadata": {
        "trusted": true
      },
      "outputs": [
        {
          "execution_count": 2,
          "output_type": "execute_result",
          "data": {
            "text/plain": "40"
          },
          "metadata": {}
        }
      ],
      "execution_count": 2
    },
    {
      "cell_type": "code",
      "source": "[10, 20, 30, 40, 50]\n['hello']\n\n// [[10, 'h'], [20, 'e'], [30, 'l']...] // 이렇게 해야하는 문제들이 간혹 나옵니다.\n\nvar zip = (a, b) => a.map((e, i) => [e, b[i]])\nzip([10, 20, 30, 40, 50], 'hello')",
      "metadata": {
        "trusted": true
      },
      "outputs": [
        {
          "execution_count": 1,
          "output_type": "execute_result",
          "data": {
            "text/plain": "[ [ 10, 'h' ], [ 20, 'e' ], [ 30, 'l' ], [ 40, 'l' ], [ 50, 'o' ] ]"
          },
          "metadata": {}
        }
      ],
      "execution_count": 1
    },
    {
      "cell_type": "code",
      "source": "// 1.2 범위 안에 수를 생성\n// [1, 2, 3, 4, .... 100]\n// range(100) => [0, 1, 2, ... 100]\nvar range = (start, end) => Array.from({length:end-start+1}, (_, i) => start + i)\nrange(10, 100)\n\n// l = [10, 20]\n// l.length = 100\n// l // (100) [10, 20, empty × 98]\n\nArray.from('hello')\nArray.from({'one':10, 'two':20}, (v, i) => i)\nArray.from({'one':10, 'two':20}, (v, i) => 'hello')\nArray.from({'one':10, 'two':20, length:3}, (v, i) => 'hello')\n// Array.from(arrayLike, mapFn)\n\nArray.from([1, 2, 3], (x) => x + x);\n\n\n// Array.from({1, 2, 3});\nArray.from([1, 2, 3]);\nArray.from(new Set([1, 2, 3]));\nArray.from(new Map([[1, 2], [3, 4]]));\n\nrange(3, 10)\n\nArray.from({length:10}, (v) => 'hello');\nArray.from({length:10}, (v, i) => i);\nArray.from({length:10}, (v, i) => v);",
      "metadata": {
        "trusted": true
      },
      "outputs": [
        {
          "execution_count": 3,
          "output_type": "execute_result",
          "data": {
            "text/plain": "[ undefined, undefined, undefined, undefined, undefined, undefined, undefined, undefined, undefined, undefined ]"
          },
          "metadata": {}
        }
      ],
      "execution_count": 3
    },
    {
      "cell_type": "code",
      "source": "l = [10, 20]\nl.length = 100\nl // (100) [10, 20, empty × 98]",
      "metadata": {
        "trusted": true
      },
      "outputs": [
        {
          "execution_count": 4,
          "output_type": "execute_result",
          "data": {
            "text/plain": "[ 10, 20, , , , , , , , , , , , , , , , , , , , , , , , , , , , , , , , , , , , , , , , , , , , , , , , , , , , , , , , , , , , , , , , , , , , , , , , , , , , , , , , , , , , , , , , , , , , , , , , , ,  ]"
          },
          "metadata": {}
        }
      ],
      "execution_count": 4
    },
    {
      "cell_type": "code",
      "source": "Array(100).fill(0).map((_, i) => i + 1)",
      "metadata": {
        "trusted": true
      },
      "outputs": [
        {
          "execution_count": 5,
          "output_type": "execute_result",
          "data": {
            "text/plain": "[ 1, 2, 3, 4, 5, 6, 7, 8, 9, 10, 11, 12, 13, 14, 15, 16, 17, 18, 19, 20, 21, 22, 23, 24, 25, 26, 27, 28, 29, 30, 31, 32, 33, 34, 35, 36, 37, 38, 39, 40, 41, 42, 43, 44, 45, 46, 47, 48, 49, 50, 51, 52, 53, 54, 55, 56, 57, 58, 59, 60, 61, 62, 63, 64, 65, 66, 67, 68, 69, 70, 71, 72, 73, 74, 75, 76, 77, 78, 79, 80, 81, 82, 83, 84, 85, 86, 87, 88, 89, 90, 91, 92, 93, 94, 95, 96, 97, 98, 99, 100 ]"
          },
          "metadata": {}
        }
      ],
      "execution_count": 5
    },
    {
      "cell_type": "code",
      "source": "// 1.3 평평하게 만들기(평탄화)\n\nconst flatten = (arr, depth = Infinity) => arr.flat(depth)\n\n[1, [2, [3, [4]]]].flat()\n// [1, [2, [3, [4]]]].flat(2) // console에서만 가능\n// [1, [2, [3, [4]]]].flat(Infinity)\n\nconst data = [1, [2, [3, [4]]]]\ndata.flat(2)\ndata.flat(Infinity)\n\n// console에서는 작동합니다.\n// flatten([1, [2, [3, [4]]]], 2)",
      "metadata": {
        "trusted": true
      },
      "outputs": [
        {
          "execution_count": 6,
          "output_type": "execute_result",
          "data": {
            "text/plain": "[ 1, 2, 3, 4 ]"
          },
          "metadata": {}
        }
      ],
      "execution_count": 6
    },
    {
      "cell_type": "code",
      "source": "// 2. js에서 유용하게 사용하는 코드\n\nInfinity > 100\n-Infinity > 100",
      "metadata": {
        "trusted": true
      },
      "outputs": [
        {
          "execution_count": 7,
          "output_type": "execute_result",
          "data": {
            "text/plain": "false"
          },
          "metadata": {}
        }
      ],
      "execution_count": 7
    },
    {
      "cell_type": "code",
      "source": "const data = [\n  {\n    \"_id\": \"dd33c15e-2c3a-4dd6-A1f8-4fde09708eba\",\n    \"index\": \"1\",\n    \"name\": \"등다경\",\n    \"email\": \"user-whe97n7@felis.co.kr\",\n    \"phone\": \"010-7015-7470\",\n    \"country\": \"카메룬\",\n    \"address\": \"신촌로 95-3\",\n    \"job\": \"회계사\"\n  },\n  {\n    \"_id\": \"e0129800-b641-4889-Ad9c-c359253c0252\",\n    \"index\": \"2\",\n    \"name\": \"내동휘\",\n    \"email\": \"user-mdxwrx7@sit.co.kr\",\n    \"phone\": \"010-7199-4196\",\n    \"country\": \"핀란드\",\n    \"address\": \"논현로 50-6\",\n    \"job\": \"일러스트레이터\"\n  },\n  {\n    \"_id\": \"283040b5-4017-4e19-Bb0c-d2fc0b0bde81\",\n    \"index\": \"3\",\n    \"name\": \"빙수한\",\n    \"email\": \"user-cr9wic9@laoreet.biz\",\n    \"phone\": \"010-2409-0979\",\n    \"country\": \"중국\",\n    \"address\": \"동일로 16-7\",\n    \"job\": \"호텔지배인\"\n  },\n  {\n    \"_id\": \"df395f63-ad40-46ad-C8ac-16905ff2badf\",\n    \"index\": \"4\",\n    \"name\": \"함은빈\",\n    \"email\": \"user-hhv4xtb@sed.net\",\n    \"phone\": \"010-5797-8441\",\n    \"country\": \"독일\",\n    \"address\": \"한남대로 49-3\",\n    \"job\": \"미용사\"\n  },\n  {\n    \"_id\": \"51f0a40e-b15e-49ec-B838-db841cdea477\",\n    \"index\": \"5\",\n    \"name\": \"주진서\",\n    \"email\": \"user-d49qimr@ipsum.co.kr\",\n    \"phone\": \"010-2570-6590\",\n    \"country\": \"세이셸\",\n    \"address\": \"대림로 90-9\",\n    \"job\": \"전문의사\"\n  }\n]\ndata.map((i) => i.country)",
      "metadata": {
        "trusted": true
      },
      "outputs": [
        {
          "execution_count": 8,
          "output_type": "execute_result",
          "data": {
            "text/plain": "[ '카메룬', '핀란드', '중국', '독일', '세이셸' ]"
          },
          "metadata": {}
        }
      ],
      "execution_count": 8
    },
    {
      "cell_type": "code",
      "source": "Math.ceil(1.1)\nMath.floor(1.1)\nMath.max(1, 2, 3, 4, 5)\nMath.max(...[1, 2, 3, 4, 5])\nMath.min(...[1, 2, 3, 4, 5])",
      "metadata": {
        "trusted": true
      },
      "outputs": [
        {
          "execution_count": 9,
          "output_type": "execute_result",
          "data": {
            "text/plain": "1"
          },
          "metadata": {}
        }
      ],
      "execution_count": 9
    },
    {
      "cell_type": "code",
      "source": "// 0, 1   10\n// 0, 1, 2, 3, 4, 5, 6, 7    10\n// 0, 1, 2, 3, 4, 5, 6, 7, 8, 9, a, b, c, d, e, f    10\n\n9 | 30",
      "metadata": {
        "trusted": true
      },
      "outputs": [
        {
          "execution_count": 10,
          "output_type": "execute_result",
          "data": {
            "text/plain": "31"
          },
          "metadata": {}
        }
      ],
      "execution_count": 10
    },
    {
      "cell_type": "code",
      "source": "3 | 9 // bit or연산\n\n// 0011 // 3\n// 1001 // 9\n// ----\n// 1011 // 11",
      "metadata": {
        "trusted": true
      },
      "outputs": [
        {
          "execution_count": 11,
          "output_type": "execute_result",
          "data": {
            "text/plain": "11"
          },
          "metadata": {}
        }
      ],
      "execution_count": 11
    },
    {
      "cell_type": "code",
      "source": "3 & 9 // bit and연산\n\n// 0011 // 3\n// 1001 // 9\n// ----\n// 0001 // 1",
      "metadata": {
        "trusted": true
      },
      "outputs": [
        {
          "execution_count": 12,
          "output_type": "execute_result",
          "data": {
            "text/plain": "1"
          },
          "metadata": {}
        }
      ],
      "execution_count": 12
    },
    {
      "cell_type": "code",
      "source": "parseInt(11, 2)\nparseInt('11', 2)\ndata = 11\ndata.toString(2)",
      "metadata": {
        "trusted": true
      },
      "outputs": [
        {
          "execution_count": 13,
          "output_type": "execute_result",
          "data": {
            "text/plain": "'1011'"
          },
          "metadata": {}
        }
      ],
      "execution_count": 13
    },
    {
      "cell_type": "code",
      "source": "const arr1 = [9, 20, 28, 18, 11]\nconst arr2 = [30, 1, 21, 17, 28]\n\nfor (let i of zip(arr1, arr2)){\n    result = i[0] | i[1]\n    result = result.toString(2)\n    console.log(result.replaceAll('1', '#').replaceAll('0', ' '))\n}\n\n// [\"#####\",\"# # #\", \"### #\", \"# ##\", \"#####\"]",
      "metadata": {
        "trusted": true
      },
      "outputs": [
        {
          "name": "stdout",
          "text": "#####\n# # #\n### #\n#  ##\n#####\n",
          "output_type": "stream"
        },
        {
          "execution_count": 14,
          "output_type": "execute_result",
          "data": {},
          "metadata": {}
        }
      ],
      "execution_count": 14
    },
    {
      "cell_type": "code",
      "source": "// 이렇게 풀지 마세요 - 1\n// xxx8 이런 유형: xxx에 000부터 999까지 들어갈 수 있으니 1000개\n// xx8x 이런 유형: xxx에 000부터 999까지 들어갈 수 있으니 1000개\n// x8xx 이런 유형: xxx에 000부터 999까지 들어갈 수 있으니 1000개\n// 8xxx 이런 유형: xxx에 000부터 999까지 들어갈 수 있으니 1000개\n// 4000개! 맞나요? 맞죠! 중복을 허락해야 합니다.\n// 이렇게 풀지 말라는 이유는 이런 수학적 지식이 많이 필요한 문제는 코딩테스트에서\n// 잘 나오지 않고, 나와도 비판을 많이 받습니다.\n\n// 이렇게 풀지 마세요 - 2\n// 이런 카운팅 하는 문제를 [0, 0, 0, 0] ~ [9, 9, 9, 9]까지 하나씩 if문을 사용해서 비교...\n// 이런 카운팅 문제는 많이 풀어보시면 대부분 문자열로 만들어 푸는 문제입니다.",
      "metadata": {
        "trusted": true
      },
      "outputs": [
        {
          "execution_count": 16,
          "output_type": "execute_result",
          "data": {},
          "metadata": {}
        }
      ],
      "execution_count": 16
    },
    {
      "cell_type": "markdown",
      "source": "### 1.3.1 1번 워밍업 문제(google)\n\n1부터 10,000까지 8이라는 숫자가 총 몇번 나오는가?\n\n8이 포함되어 있는 숫자의 갯수를 카운팅 하는 것이 아니라 8이라는 숫자를 모두 카운팅 해야 한다.\n(※ 예를들어 8808은 3, 8888은 4로 카운팅 해야 함)\n\n문제 링크 : https://codingdojang.com/scode/393\n",
      "metadata": {}
    },
    {
      "cell_type": "code",
      "source": "s = ''\nArray(20).fill(0).map((_, i) => i + 1)",
      "metadata": {
        "trusted": true
      },
      "outputs": [
        {
          "execution_count": 17,
          "output_type": "execute_result",
          "data": {
            "text/plain": "[ 1, 2, 3, 4, 5, 6, 7, 8, 9, 10, 11, 12, 13, 14, 15, 16, 17, 18, 19, 20 ]"
          },
          "metadata": {}
        }
      ],
      "execution_count": 17
    },
    {
      "cell_type": "code",
      "source": "let count = 0\nfor (let i of Array(20).fill(0).map((_, i) => i + 1).toString()){\n    if (i == '1'){\n        count += 1\n    }\n}\ncount",
      "metadata": {
        "trusted": true
      },
      "outputs": [
        {
          "execution_count": 18,
          "output_type": "execute_result",
          "data": {
            "text/plain": "12"
          },
          "metadata": {}
        }
      ],
      "execution_count": 18
    },
    {
      "cell_type": "code",
      "source": "Array(20).fill(0).map((_, i) => i + 1).join('')",
      "metadata": {
        "trusted": true
      },
      "outputs": [
        {
          "execution_count": 19,
          "output_type": "execute_result",
          "data": {
            "text/plain": "'1234567891011121314151617181920'"
          },
          "metadata": {}
        }
      ],
      "execution_count": 19
    },
    {
      "cell_type": "markdown",
      "source": "### 1.3.2 2번 워밍업 문제(daum)\n\n1차원의 점들이 주어졌을 때, 그 중 가장 거리가 짧은 것의 쌍을 출력하는 함수를 작성하시오. (단 점들의 배열은 모두 정렬되어있다고 가정한다.)\n\n예를들어 S = [1, 3, 4, 8, 13, 17, 20] 이 주어졌다면, 결과값은 (3, 4)가 될 것이다.\n\n문제링크 : https://codingdojang.com/scode/408",
      "metadata": {}
    },
    {
      "cell_type": "code",
      "source": "let a = [1, 3, 4, 8, 13, 17, 20]\nlet b = a.slice(1)\n\nlet pair = a.map((v, i) => [v, b[i]])",
      "metadata": {
        "trusted": true
      },
      "outputs": [
        {
          "execution_count": 20,
          "output_type": "execute_result",
          "data": {},
          "metadata": {}
        }
      ],
      "execution_count": 20
    },
    {
      "cell_type": "code",
      "source": "const data = [5, 4, 2, 7, 10, 5, 4, 1]\n\ndata.sort((a, b) => a - b) // 오름차순\ndata.sort((a, b) => b - a) // 내림차순",
      "metadata": {
        "trusted": true
      },
      "outputs": [
        {
          "execution_count": 21,
          "output_type": "execute_result",
          "data": {
            "text/plain": "[ 10, 7, 5, 5, 4, 4, 2, 1 ]"
          },
          "metadata": {}
        }
      ],
      "execution_count": 21
    },
    {
      "cell_type": "code",
      "source": "let a = [1, 3, 4, 8, 13, 17, 20]\nlet b = a.slice(1)\n\nlet pair = a.map((v, i) => [v, b[i]])\n\npair.sort((a, b) => (a[1]-a[0]) - (b[1]-b[0]))",
      "metadata": {
        "trusted": true
      },
      "outputs": [
        {
          "execution_count": 22,
          "output_type": "execute_result",
          "data": {
            "text/plain": "[ [ 3, 4 ], [ 1, 3 ], [ 17, 20 ], [ 4, 8 ], [ 13, 17 ], [ 8, 13 ], [ 20, undefined ] ]"
          },
          "metadata": {}
        }
      ],
      "execution_count": 22
    },
    {
      "cell_type": "code",
      "source": "let data = [1, 3, 4, 8, 13, 17, 20]\ndata.sort() // 사전식 sort!!!!??",
      "metadata": {
        "trusted": true
      },
      "outputs": [
        {
          "execution_count": 23,
          "output_type": "execute_result",
          "data": {
            "text/plain": "[ 1, 13, 17, 20, 3, 4, 8 ]"
          },
          "metadata": {}
        }
      ],
      "execution_count": 23
    },
    {
      "cell_type": "code",
      "source": "let a = [1, 3, 4, 8, 13, 17, 20]\nlet b = a.slice(1)\n\nlet pair = a.map((v, i) => [v, b[i]])\n\npair.sort((a, b) => {\n    console.log(a)\n    console.log(b)\n    console.log('-----------')\n})\n\npair\n// [ [ 1, 3 ], [ 3, 4 ], [ 4, 8 ], [ 8, 13 ], [ 13, 17 ], [ 17, 20 ], [ 20, undefined ] ]\n[2, 1, 4, 5, 4, 3]",
      "metadata": {
        "trusted": true
      },
      "outputs": [
        {
          "name": "stdout",
          "text": "3,4\n1,3\n-----------\n4,8\n3,4\n-----------\n8,13\n4,8\n-----------\n13,17\n8,13\n-----------\n17,20\n13,17\n-----------\n20,\n17,20\n-----------\n",
          "output_type": "stream"
        },
        {
          "execution_count": 24,
          "output_type": "execute_result",
          "data": {
            "text/plain": "[ 8, 13 ]"
          },
          "metadata": {}
        }
      ],
      "execution_count": 24
    },
    {
      "cell_type": "code",
      "source": "const data = [5, 4, 2, 7, 10, 5, 4, 1]\n\ndata.sort((a, b) => a - b) // 오름차순\ndata.sort((a, b) => b - a) // 내림차순",
      "metadata": {
        "trusted": true
      },
      "outputs": [
        {
          "execution_count": 25,
          "output_type": "execute_result",
          "data": {
            "text/plain": "[ 10, 7, 5, 5, 4, 4, 2, 1 ]"
          },
          "metadata": {}
        }
      ],
      "execution_count": 25
    },
    {
      "cell_type": "code",
      "source": "const data = [\n    [1, 30, 'hello', [1, 3]],\n    [5, 20, 'hell', [3, 4]],\n    [2, 10, 'hel', [4, 8]],\n    [4, 40, 'he', [8, 13]],\n    [3, 50, 'h', [13, 17]],\n]\n\n// 문제 1번: 0번째 항목에 오름차순으로 정렬해주세요.\ndata.sort((a, b) => a[0] - b[0])\n\n// 문제 2번: 1번째 항목에 내림차순으로 정렬해주세요.\ndata.sort((a, b) => b[1] - a[1])\n\n// 문제 3번: 2번째 항목에 문자열의 수가 적은 순으로 정렬해주세요.\ndata.sort((a, b) => a[2].length - b[2].length)\n\n// 문제 4번: 3번째 항목에 두 수의 차가 적은 순으로 정렬해주세요.\ndata.sort((a, b) => (a[3][1] - a[3][0]) - (b[3][1] - b[3][0]))",
      "metadata": {
        "trusted": true
      },
      "outputs": [
        {
          "execution_count": 27,
          "output_type": "execute_result",
          "data": {
            "text/plain": "[ [ 5, 20, 'hell', [ 3, 4 ] ], [ 1, 30, 'hello', [ 1, 3 ] ], [ 3, 50, 'h', [ 13, 17 ] ], [ 2, 10, 'hel', [ 4, 8 ] ], [ 4, 40, 'he', [ 8, 13 ] ] ]"
          },
          "metadata": {}
        }
      ],
      "execution_count": 27
    },
    {
      "cell_type": "markdown",
      "source": "### 1.3.3 3번 워밍업 문제(jsalgo, 쿠키 문제)\n\n문제링크 : https://100.jsalgo.co.kr/?page=4#",
      "metadata": {}
    },
    {
      "cell_type": "code",
      "source": "function solution(data){\n    let result = 0\n    data.forEach((v, i) => {\n        result += parseInt(v.match(/10|[0-9]/g)) * (i + 1)\n    })\n    return result\n}",
      "metadata": {
        "trusted": true
      },
      "outputs": [
        {
          "execution_count": 28,
          "output_type": "execute_result",
          "data": {},
          "metadata": {}
        }
      ],
      "execution_count": 28
    },
    {
      "cell_type": "code",
      "source": "'hello world 9 hello'.match(/[0-9]/g)\n'hello world 10 hello'.match(/10|[0-9]/g)",
      "metadata": {
        "trusted": true
      },
      "outputs": [
        {
          "execution_count": 29,
          "output_type": "execute_result",
          "data": {
            "text/plain": "[ '10' ]"
          },
          "metadata": {}
        }
      ],
      "execution_count": 29
    },
    {
      "cell_type": "markdown",
      "source": "### 1.3.4 4번 워밍업 문제(jsalgo, 평균점수 카운팅)\n\n문제링크 : https://100.jsalgo.co.kr/?page=11#",
      "metadata": {}
    },
    {
      "cell_type": "code",
      "source": "const score = [[98, 92, 85], [95, 32, 51], [98, 98, 51]]\n\nfunction solution(data){\n    return data.filter(x => x.reduce((a, c) => a + c, 0) >= 240).length\n}\n\nsolution(score)",
      "metadata": {
        "trusted": true
      },
      "outputs": [
        {
          "execution_count": 30,
          "output_type": "execute_result",
          "data": {
            "text/plain": "2"
          },
          "metadata": {}
        }
      ],
      "execution_count": 30
    },
    {
      "cell_type": "code",
      "source": "const score = ['hel', 'h', 'hell', 'hel', 'he', 'hell']\n// 3자 이상인 것을 출력해주세요.\nscore.filter(x => x.length >= 3)",
      "metadata": {
        "trusted": true
      },
      "outputs": [
        {
          "execution_count": 31,
          "output_type": "execute_result",
          "data": {
            "text/plain": "[ 'hel', 'hell', 'hel', 'hell' ]"
          },
          "metadata": {}
        }
      ],
      "execution_count": 31
    },
    {
      "cell_type": "markdown",
      "source": "### 1.3.5 5번 워밍업 문제(jsalgo, 비트 치환 문제)\n\n문제링크 : https://100.jsalgo.co.kr/?page=30#",
      "metadata": {}
    },
    {
      "cell_type": "code",
      "source": "const data = 9 // 1001\ndata.toString(2)",
      "metadata": {
        "trusted": true
      },
      "outputs": [
        {
          "execution_count": 32,
          "output_type": "execute_result",
          "data": {
            "text/plain": "'1001'"
          },
          "metadata": {}
        }
      ],
      "execution_count": 32
    },
    {
      "cell_type": "code",
      "source": "data.toString(2).replaceAll('1', 'A')",
      "metadata": {
        "trusted": true
      },
      "outputs": [
        {
          "execution_count": 33,
          "output_type": "execute_result",
          "data": {
            "text/plain": "'A0AA'"
          },
          "metadata": {}
        }
      ],
      "execution_count": 33
    },
    {
      "cell_type": "markdown",
      "source": "## 1.4 기본 자료구조 및 알고리즘\n1. 스택과 큐\n2. 연결리스트\n3. 트리와 그래프\n    * 3.1 트리 구현\n    * 3.2 트리의 순회\n4. 정렬 알고리즘\n    * 4.1 선택정렬\n    * 4.2 삽입정렬\n    * 4.3 병합정렬\n    * 4.4 퀵정렬\n5. 페이지 교체 알고리즘\n6. 슬라이딩 윈도우와 투 포인터 알고리즘",
      "metadata": {}
    },
    {
      "cell_type": "code",
      "source": "// 연결리스트\nnode1 = {\n    'data': 12,\n    'next': null\n}\n\nnode2 = {\n    'data': 99,\n    'next': null\n}\n\nnode3 = {\n    'data': 37,\n    'next': null\n}\n\nnode1['next'] = node2\nnode2['next'] = node3",
      "metadata": {
        "trusted": true
      },
      "outputs": [
        {
          "execution_count": 34,
          "output_type": "execute_result",
          "data": {
            "text/plain": "{ data: 37, next: null }"
          },
          "metadata": {}
        }
      ],
      "execution_count": 34
    },
    {
      "cell_type": "code",
      "source": "// 연결리스트\nnode1 = [12,null]\nnode2 = [99,null]\nnode3 = [37,null]\n\nnode1[1] = node2\nnode2[2] = node3",
      "metadata": {
        "trusted": true
      },
      "outputs": [
        {
          "execution_count": 35,
          "output_type": "execute_result",
          "data": {
            "text/plain": "[ 37, null ]"
          },
          "metadata": {}
        }
      ],
      "execution_count": 35
    },
    {
      "cell_type": "code",
      "source": "// 연결리스트\nnode1 = {\n    'data': 12,\n    'next': null\n}\n\nnode2 = {\n    'data': 99,\n    'next': null\n}\n\nnode3 = {\n    'data': 37,\n    'next': null\n}\n\nnode1['next'] = node2\nnode2['next'] = node3\n\nlinkedlist['next']['next']['data']",
      "metadata": {
        "trusted": true
      },
      "outputs": [
        {
          "ename": "ReferenceError",
          "evalue": "linkedlist is not defined",
          "traceback": [
            "ReferenceError: linkedlist is not defined\n    at eval (eval at execute (https://jupyter.weniv.co.kr/extensions/@jupyterlite/javascript-kernel-extension/static/584.7e49152bd31ca0f8291b.js?v=7e49152bd31ca0f8291b:2:13351), <anonymous>:20:1)\n    at eval (<anonymous>)\n    at Object.execute (https://jupyter.weniv.co.kr/extensions/@jupyterlite/javascript-kernel-extension/static/584.7e49152bd31ca0f8291b.js?v=7e49152bd31ca0f8291b:2:13351)\n    at o (https://jupyter.weniv.co.kr/extensions/@jupyterlite/javascript-kernel-extension/static/584.7e49152bd31ca0f8291b.js?v=7e49152bd31ca0f8291b:2:10215)"
          ],
          "output_type": "error"
        }
      ],
      "execution_count": 36
    },
    {
      "cell_type": "code",
      "source": "// 연결리스트\nnode1 = [12,null]\nnode2 = [99,null]\nnode3 = [37,null]\n\nnode1[1] = node2\nnode2[1] = node3\n\nnode1[1][1][0]",
      "metadata": {
        "trusted": true
      },
      "outputs": [
        {
          "execution_count": 36,
          "output_type": "execute_result",
          "data": {
            "text/plain": "37"
          },
          "metadata": {}
        }
      ],
      "execution_count": 37
    },
    {
      "cell_type": "code",
      "source": "// 연결리스트\nlinkedlist = {\n    'data': 12,\n    'next': {\n        'data': 99,\n        'next': {\n            'data': 37,\n            'next': null\n        }\n    }\n}\n\nlinkedlist['next']['next']['data']",
      "metadata": {
        "trusted": true
      },
      "outputs": [
        {
          "execution_count": 37,
          "output_type": "execute_result",
          "data": {
            "text/plain": "37"
          },
          "metadata": {}
        }
      ],
      "execution_count": 38
    },
    {
      "cell_type": "markdown",
      "source": "* 개념 : https://en.wikipedia.org/wiki/Linked_list\n* 알고리즘 시각화 : https://visualgo.net/ko",
      "metadata": {}
    },
    {
      "cell_type": "code",
      "source": "class Node {\n    constructor(data){\n        this.data = data\n        this.next = null\n    }\n}",
      "metadata": {
        "trusted": true
      },
      "outputs": [
        {
          "execution_count": 38,
          "output_type": "execute_result",
          "data": {},
          "metadata": {}
        }
      ],
      "execution_count": 39
    },
    {
      "cell_type": "code",
      "source": "class Node {\n    constructor(data){\n        this.data = data\n        this.next = null\n    }\n}\n\nnode1 = new Node(12)\nnode2 = new Node(99)\nnode3 = new Node(37)\n\nnode1.next = node2\nnode2.next = node3\n\nnode1.next.next.data",
      "metadata": {
        "trusted": true
      },
      "outputs": [
        {
          "execution_count": 39,
          "output_type": "execute_result",
          "data": {
            "text/plain": "37"
          },
          "metadata": {}
        }
      ],
      "execution_count": 40
    },
    {
      "cell_type": "code",
      "source": "class Node {\n    constructor(data){\n        this.data = data\n        this.next = null\n    }\n}\n\nnode1 = new Node(12)\nnode2 = new Node(99)\nnode3 = new Node(37)\nnode4 = new Node(77)\n\nnode1.next = node2\nnode2.next = node3\nnode3.next = node4\n\n// 37을 찾고 싶어요!\nconst search_data = 37\nlet current_node = node1\nwhile (current_node) {\n    if (current_node.data == search_data){\n        console.log('찾았다!!')\n        break\n    }\n    current_node = current_node.next\n}",
      "metadata": {
        "trusted": true
      },
      "outputs": [
        {
          "name": "stdout",
          "text": "찾았다!!\n",
          "output_type": "stream"
        },
        {
          "execution_count": 40,
          "output_type": "execute_result",
          "data": {},
          "metadata": {}
        }
      ],
      "execution_count": 41
    },
    {
      "cell_type": "code",
      "source": "// 링크드리스트 ADT(Abstract Data Type)를 구현하겠다!\n// push, pop, search, insert...\n//l.push(12)\n//l.pust(99)\n//l.push(37)\n//l.push(77)",
      "metadata": {
        "trusted": true
      },
      "outputs": [
        {
          "execution_count": 41,
          "output_type": "execute_result",
          "data": {},
          "metadata": {}
        }
      ],
      "execution_count": 42
    },
    {
      "cell_type": "code",
      "source": "class Node {\n    constructor(data){\n        this.data = data\n        this.next = null\n    }\n}\n\nclass LinkedList {\n    constructor() {\n        let init = new Node('init')\n        this.head = init\n        this.tail = init\n    }\n\n    push(data) {\n        let newnode = new Node(data)\n        this.tail.next = newnode\n        this.tail = newnode\n    }\n}\n\nl = new LinkedList()\nl.push(10)\nl.push(20)\nl.push(30)\nl.push(40)\nl.push(50)",
      "metadata": {
        "trusted": true
      },
      "outputs": [
        {
          "execution_count": 43,
          "output_type": "execute_result",
          "data": {},
          "metadata": {}
        }
      ],
      "execution_count": 44
    },
    {
      "cell_type": "code",
      "source": "l.head.data\nl.head.next.data\nl.head.next.next.data\nl.head.next.next.next.data",
      "metadata": {
        "trusted": true
      },
      "outputs": [
        {
          "execution_count": 46,
          "output_type": "execute_result",
          "data": {
            "text/plain": "30"
          },
          "metadata": {}
        }
      ],
      "execution_count": 47
    },
    {
      "cell_type": "code",
      "source": "// 트리",
      "metadata": {
        "trusted": true
      },
      "outputs": [
        {
          "execution_count": 47,
          "output_type": "execute_result",
          "data": {},
          "metadata": {}
        }
      ],
      "execution_count": 48
    },
    {
      "cell_type": "code",
      "source": "const root = {\n    'data':55,\n    'left': null,\n    'right': null\n}\n\nconst node1 = {\n    'data': 30,\n    'left': null,\n    'right': null\n}\n\nconst node2 = {\n    'data': 70,\n    'left': null,\n    'right': null\n}\n\nroot.left = node1\nroot.right = node2\n\nroot.left.data",
      "metadata": {
        "trusted": true
      },
      "outputs": [
        {
          "execution_count": 49,
          "output_type": "execute_result",
          "data": {
            "text/plain": "30"
          },
          "metadata": {}
        }
      ],
      "execution_count": 51
    },
    {
      "cell_type": "code",
      "source": "class Node {\n    constructor(data) {\n        this.data = data\n        this.left = null\n        this.right = null\n    }\n}\n\nroot = new Node(55)\nnode1 = new Node(30)\nnode2 = new Node(70)\n\nroot.left = node1\nroot.right = node2\n\nroot.left.data",
      "metadata": {
        "trusted": true
      },
      "outputs": [
        {
          "execution_count": 53,
          "output_type": "execute_result",
          "data": {
            "text/plain": "30"
          },
          "metadata": {}
        }
      ],
      "execution_count": 55
    },
    {
      "cell_type": "code",
      "source": "class Node {\n    constructor(data){\n        this.data = data\n        this.left = null\n        this.right = null\n    }\n}\n\nclass Tree {\n    constructor(data) {\n        let init = new Node(data)\n        this.root = init\n        this.length = 0\n    }\n\n    insert(data) {\n        let 새로운노드 = new Node(data)\n        let 순회용현재노드 = this.root\n\n        while(순회용현재노드) {\n            if(data == 순회용현재노드.data) {\n                return\n            } else if(data < 순회용현재노드.data) {\n                //왼쪽에 붙어야 합니다!\n                if(!순회용현재노드.left) {\n                    순회용현재노드.left = 새로운노드\n                    this.length += 1\n                    return\n                }\n                순회용현재노드 = 순회용현재노드.left\n            } else if(data > 순회용현재노드.data) {\n                //오른쪽에 붙어야 합니다!\n                if(!순회용현재노드.right) {\n                    순회용현재노드.right = 새로운노드\n                    this.length += 1\n                    return\n                }\n                순회용현재노드 = 순회용현재노드.right\n            }\n        }\n    }\n}\n\nlet t = new Tree(5)\nt.insert(3)\nt.insert(8)\nt.insert(1)\nt.insert(4)\nt.insert(6)\nt.insert(9)\n\nt.root.right.data",
      "metadata": {
        "trusted": true
      },
      "outputs": [
        {
          "execution_count": 5,
          "output_type": "execute_result",
          "data": {
            "text/plain": "8"
          },
          "metadata": {}
        }
      ],
      "execution_count": 16
    },
    {
      "cell_type": "code",
      "source": "//\nclass Node {\n    constructor(data){\n        this.data = data\n        this.left = null\n        this.right = null\n    }\n}\n\nclass Tree {\n    constructor(data) {\n        let init = new Node(data);\n        this.root = init\n        this.length = 0\n    }\n\n    insert(data) {\n        let 새로운노드 = new Node(data)\n        let 순회용현재노드 = this.root\n\n        while(순회용현재노드) {\n            if (data == 순회용현재노드.data){\n                return\n            } else if(data < 순회용현재노드.data){\n                // 왼쪽에 붙어야 합니다!\n                if (!순회용현재노드.left){\n                    순회용현재노드.left = 새로운노드\n                    this.length += 1\n                    return\n                }\n                순회용현재노드 = 순회용현재노드.left\n            } else if(data > 순회용현재노드.data){\n                // 오른쪽에 붙어야 합니다!\n                if (!순회용현재노드.right){\n                    순회용현재노드.right = 새로운노드\n                    this.length += 1\n                    return\n                }\n                순회용현재노드 = 순회용현재노드.right\n            }\n        }\n    }\n\n    DFS() {\n        // 깊이 우선 탐색\n        let 방문경로 = []\n        let 스택 = [this.root]\n\n        while(스택.length !== 0) {\n            let current = 스택.pop()\n            if(current.right) {\n                스택.push(current.right)\n            }\n            if(current.left) {\n                스택.push(current.left)\n            }\n            방문경로.push(current.data)\n        }\n        return 방문경로\n    }\n    BFS() {\n        // 너비 우선 탐색\n        let 방문경로 = []\n        let 큐 = [this.root]\n\n        while(큐.length !== 0) {\n            let current = 큐.shift()\n            if(current.left) {\n                큐.push(current.left)\n            }\n            if(current.right) {\n                큐.push(current.right)\n            }\n            방문경로.push(current.data)\n        }\n        return 방문경로\n    }\n}\n\nlet t = new Tree(5)\nt.insert(3)\nt.insert(8)\nt.insert(1)\nt.insert(4)\nt.insert(6)\nt.insert(9)\n\nt.root.right.data\nt.DFS()\nt.BFS()",
      "metadata": {
        "trusted": true
      },
      "outputs": [
        {
          "execution_count": 12,
          "output_type": "execute_result",
          "data": {
            "text/plain": "[ 5, 3, 8, 1, 4, 6, 9 ]"
          },
          "metadata": {}
        }
      ],
      "execution_count": 23
    },
    {
      "cell_type": "code",
      "source": "[\n    [1, 3, '#'],\n    [0, '#', 2],\n    [0, 1, 1]\n]",
      "metadata": {
        "trusted": true
      },
      "outputs": [
        {
          "execution_count": 13,
          "output_type": "execute_result",
          "data": {
            "text/plain": "[ [ 1, 3, '#' ], [ 0, '#', 2 ], [ 0, 1, 1 ] ]"
          },
          "metadata": {}
        }
      ],
      "execution_count": 24
    },
    {
      "cell_type": "code",
      "source": "",
      "metadata": {
        "trusted": true
      },
      "outputs": [],
      "execution_count": null
    }
  ]
}